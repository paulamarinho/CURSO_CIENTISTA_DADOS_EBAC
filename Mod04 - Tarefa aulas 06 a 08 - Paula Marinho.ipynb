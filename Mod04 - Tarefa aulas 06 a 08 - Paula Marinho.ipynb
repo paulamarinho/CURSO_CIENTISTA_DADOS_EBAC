{
 "cells": [
  {
   "cell_type": "markdown",
   "metadata": {},
   "source": [
    "# Tarefa 03\n",
    "\n",
    "- Leia os enunciados com atenção\n",
    "- Saiba que pode haver mais de uma resposta correta\n",
    "- Insira novas células de código sempre que achar necessário\n",
    "- Em caso de dúvidas, procure os Tutores\n",
    "- Divirta-se :)"
   ]
  },
  {
   "cell_type": "code",
   "execution_count": 1,
   "metadata": {},
   "outputs": [],
   "source": [
    "import pandas as pd\n",
    "import requests"
   ]
  },
  {
   "cell_type": "markdown",
   "metadata": {},
   "source": [
    "####  1) Lendo de APIs\n",
    "Vimos em aula como carregar dados públicos do governo através de um API (*Application Programming Interface*). No exemplo de aula, baixamos os dados de pedidos de verificação de limites (PVL) realizados por estados, e selecionamos apenas aqueles referentes ao estado de São Paulo.\n",
    "\n",
    "1. Repita os mesmos passos feitos em aula, mas selecione os PVLs realizados por municípios no estado do Rio de Janeiro.\n",
    "2. Quais são os três *status* das solicitações mais frequentes na base? Quais são suas frequências?\n",
    "3. Construa uma nova variável que contenha o ano do **status**. Observe que ```data_status``` vem como tipo *object* no **DataFrame**. Dica: você pode usar o método ```.str``` para transformar o tipo da variável em string, em seguida um método como [**slice()**](https://pandas.pydata.org/docs/reference/api/pandas.Series.str.slice.html) ou [**split()**](https://pandas.pydata.org/pandas-docs/stable/reference/api/pandas.Series.str.split.html).\n",
    "4. Indique a frequência de cada ano do campo construído no item (3)."
   ]
  },
  {
   "cell_type": "code",
   "execution_count": 3,
   "metadata": {},
   "outputs": [],
   "source": [
    "# 1) Repita os mesmos passos feitos em aula, mas selecione os PVLs realizados por municípios no estado do Rio de Janeiro.\n",
    "url = \"https://apidatalake.tesouro.gov.br/ords/sadipem/tt/pvl?uf=RJ&tipo_interessado=Estado\""
   ]
  },
  {
   "cell_type": "code",
   "execution_count": 22,
   "metadata": {},
   "outputs": [
    {
     "name": "stdout",
     "output_type": "stream",
     "text": [
      "200\n"
     ]
    },
    {
     "data": {
      "text/plain": [
       "Encaminhado à PGFN com manifestação técnica favorável    34\n",
       "Deferido                                                 14\n",
       "Arquivado a pedido                                        3\n",
       "Arquivado por decurso de prazo                            1\n",
       "Name: status, dtype: int64"
      ]
     },
     "execution_count": 22,
     "metadata": {},
     "output_type": "execute_result"
    }
   ],
   "source": [
    "# 2) Quais são os três status das solicitações mais frequentes na base? Quais são suas frequências?\n",
    "r = requests.get(url)\n",
    "\n",
    "#verificar qual o codigo de retorno da API (200 - tudo ok!)\n",
    "print(r.status_code)\n",
    "\n",
    "#Arquivo Json\n",
    "data_json = r.json()\n",
    "\n",
    "#Transformar o arquivo json em um DataFrame\n",
    "df = pd.DataFrame(data_json['items'])\n",
    "\n",
    "#Consultando as informações da coluna status e a qtde de vezes que aparece\n",
    "df.status.value_counts()\n"
   ]
  },
  {
   "cell_type": "code",
   "execution_count": 58,
   "metadata": {},
   "outputs": [
    {
     "name": "stdout",
     "output_type": "stream",
     "text": [
      "0     2010\n",
      "1     2014\n",
      "2     2014\n",
      "3     2012\n",
      "4     2009\n",
      "5     2011\n",
      "6     2013\n",
      "7     2013\n",
      "8     2013\n",
      "9     2009\n",
      "10    2002\n",
      "11    2009\n",
      "12    2013\n",
      "13    2011\n",
      "14    2010\n",
      "15    2016\n",
      "16    2012\n",
      "17    2009\n",
      "18    2011\n",
      "19    2006\n",
      "20    2002\n",
      "21    2016\n",
      "22    2012\n",
      "23    2014\n",
      "24    2010\n",
      "25    2009\n",
      "26    2012\n",
      "27    2011\n",
      "28    2012\n",
      "29    2016\n",
      "30    2002\n",
      "31    2006\n",
      "32    2009\n",
      "33    2011\n",
      "34    2008\n",
      "35    2016\n",
      "36    2011\n",
      "37    2009\n",
      "38    2013\n",
      "39    2012\n",
      "40    2014\n",
      "41    2009\n",
      "42    2012\n",
      "43    2012\n",
      "44    2008\n",
      "45    2009\n",
      "46    2012\n",
      "47    2013\n",
      "48    2013\n",
      "49    2012\n",
      "50    2012\n",
      "51    2002\n",
      "Name: data_status, dtype: object\n",
      "['2010' '2014' '2012' '2009' '2011' '2013' '2002' '2016' '2006' '2008']\n"
     ]
    }
   ],
   "source": [
    "# 3) Construa uma nova variável que contenha o ano do status. Observe que data_status vem como tipo object no DataFrame. \n",
    "\n",
    "#Anos da coluna data_status\n",
    "print(df.data_status.str.slice(start=6))\n",
    "\n",
    "# Lista de anos sem repetir\n",
    "Anos = df.data_status.str.slice(start=6).unique()\n",
    "print(Anos)"
   ]
  },
  {
   "cell_type": "code",
   "execution_count": 60,
   "metadata": {},
   "outputs": [
    {
     "data": {
      "text/plain": [
       "2012    11\n",
       "2009     9\n",
       "2013     7\n",
       "2011     6\n",
       "2014     4\n",
       "2002     4\n",
       "2016     4\n",
       "2010     3\n",
       "2006     2\n",
       "2008     2\n",
       "Name: data_status, dtype: int64"
      ]
     },
     "execution_count": 60,
     "metadata": {},
     "output_type": "execute_result"
    }
   ],
   "source": [
    "# 4) Indique a frequência de cada ano do campo construído no item (3).\n",
    "df.data_status.str.slice(start=6).value_counts()"
   ]
  },
  {
   "cell_type": "markdown",
   "metadata": {},
   "source": [
    "####  2) Melhorando a interação com o API\n",
    "Observe dois URLs de consultas diferentes, por exemplo o URL utilizado em aula, e o URL feito no exercício anterior. Compare-os e observe as diferenças.\n",
    "\n",
    "1. Faça uma função em Python que recebe como argumento o UF da consulta e o tipo de interessado (```'Estado'```ou ```Município```), e que devolve os dados da consulta no formato *DataFrame*.\n",
    "2. Quantas solicitações para o Estado podem ser consultadas para Minas Gerais com *status* em 'Arquivado por decurso de prazo' estão registradas?\n",
    "3. Qual é o município da Bahia com mais solicitações deferidas?\n",
    "4. Salve um arquivo .csv com os dados de solicitações da Bahia, com interessado = 'Estado'"
   ]
  },
  {
   "cell_type": "code",
   "execution_count": 114,
   "metadata": {},
   "outputs": [
    {
     "data": {
      "text/html": [
       "<div>\n",
       "<style scoped>\n",
       "    .dataframe tbody tr th:only-of-type {\n",
       "        vertical-align: middle;\n",
       "    }\n",
       "\n",
       "    .dataframe tbody tr th {\n",
       "        vertical-align: top;\n",
       "    }\n",
       "\n",
       "    .dataframe thead th {\n",
       "        text-align: right;\n",
       "    }\n",
       "</style>\n",
       "<table border=\"1\" class=\"dataframe\">\n",
       "  <thead>\n",
       "    <tr style=\"text-align: right;\">\n",
       "      <th></th>\n",
       "      <th>id_pleito</th>\n",
       "      <th>tipo_interessado</th>\n",
       "      <th>interessado</th>\n",
       "      <th>cod_ibge</th>\n",
       "      <th>uf</th>\n",
       "      <th>num_pvl</th>\n",
       "      <th>status</th>\n",
       "      <th>num_processo</th>\n",
       "      <th>data_protocolo</th>\n",
       "      <th>tipo_operacao</th>\n",
       "      <th>finalidade</th>\n",
       "      <th>tipo_credor</th>\n",
       "      <th>credor</th>\n",
       "      <th>moeda</th>\n",
       "      <th>valor</th>\n",
       "      <th>pvl_assoc_divida</th>\n",
       "      <th>pvl_contradado_credor</th>\n",
       "      <th>data_status</th>\n",
       "    </tr>\n",
       "  </thead>\n",
       "  <tbody>\n",
       "    <tr>\n",
       "      <th>0</th>\n",
       "      <td>28058</td>\n",
       "      <td>Estado</td>\n",
       "      <td>São Paulo</td>\n",
       "      <td>35</td>\n",
       "      <td>SP</td>\n",
       "      <td>PVL02.000587/2018-74</td>\n",
       "      <td>Encaminhado à PGFN com manifestação técnica fa...</td>\n",
       "      <td>17944.102744/2018-48</td>\n",
       "      <td>2018-04-25T12:36:06Z</td>\n",
       "      <td>Operação contratual interna (com garantia da U...</td>\n",
       "      <td>Infraestrutura</td>\n",
       "      <td>Instituição Financeira Nacional</td>\n",
       "      <td>Banco Santander (Brasil) S.A.</td>\n",
       "      <td>Real</td>\n",
       "      <td>250000000.0</td>\n",
       "      <td>1</td>\n",
       "      <td>1</td>\n",
       "      <td>04/05/2018</td>\n",
       "    </tr>\n",
       "    <tr>\n",
       "      <th>1</th>\n",
       "      <td>8098</td>\n",
       "      <td>Estado</td>\n",
       "      <td>São Paulo</td>\n",
       "      <td>35</td>\n",
       "      <td>SP</td>\n",
       "      <td>None</td>\n",
       "      <td>Deferido</td>\n",
       "      <td>17944.000712/2012-13</td>\n",
       "      <td>2012-05-14T03:00:00Z</td>\n",
       "      <td>Operação contratual interna</td>\n",
       "      <td>Infraestrutura</td>\n",
       "      <td>Instituição Financeira Nacional</td>\n",
       "      <td>Banco Nacional de Desenvolvimento Econômico e ...</td>\n",
       "      <td>Real</td>\n",
       "      <td>550000000.0</td>\n",
       "      <td>1</td>\n",
       "      <td>0</td>\n",
       "      <td>04/06/2012</td>\n",
       "    </tr>\n",
       "    <tr>\n",
       "      <th>2</th>\n",
       "      <td>11982</td>\n",
       "      <td>Estado</td>\n",
       "      <td>São Paulo</td>\n",
       "      <td>35</td>\n",
       "      <td>SP</td>\n",
       "      <td>None</td>\n",
       "      <td>Deferido</td>\n",
       "      <td>17944.001573/2009-40</td>\n",
       "      <td>2010-06-18T03:00:00Z</td>\n",
       "      <td>Operação contratual interna</td>\n",
       "      <td>PAC - Saneamento - 2009 A</td>\n",
       "      <td>Instituição Financeira Nacional</td>\n",
       "      <td>Caixa Econômica Federal</td>\n",
       "      <td>Real</td>\n",
       "      <td>64000000.0</td>\n",
       "      <td>1</td>\n",
       "      <td>0</td>\n",
       "      <td>24/06/2010</td>\n",
       "    </tr>\n",
       "    <tr>\n",
       "      <th>3</th>\n",
       "      <td>11458</td>\n",
       "      <td>Estado</td>\n",
       "      <td>São Paulo</td>\n",
       "      <td>35</td>\n",
       "      <td>SP</td>\n",
       "      <td>None</td>\n",
       "      <td>Encaminhado à PGFN com manifestação técnica fa...</td>\n",
       "      <td>17944.001453/2009-42</td>\n",
       "      <td>2009-11-18T02:00:00Z</td>\n",
       "      <td>Operação contratual externa (com garantia da U...</td>\n",
       "      <td>Infraestrutura</td>\n",
       "      <td>Instituição Financeira Internacional</td>\n",
       "      <td>Banco Internacional para Reconstrução e Desenv...</td>\n",
       "      <td>Dólar dos EUA</td>\n",
       "      <td>650412000.0</td>\n",
       "      <td>1</td>\n",
       "      <td>0</td>\n",
       "      <td>25/11/2009</td>\n",
       "    </tr>\n",
       "    <tr>\n",
       "      <th>4</th>\n",
       "      <td>11522</td>\n",
       "      <td>Estado</td>\n",
       "      <td>São Paulo</td>\n",
       "      <td>35</td>\n",
       "      <td>SP</td>\n",
       "      <td>None</td>\n",
       "      <td>Encaminhado à PGFN com manifestação técnica fa...</td>\n",
       "      <td>17944.001467/2008-85</td>\n",
       "      <td>2009-03-20T03:00:00Z</td>\n",
       "      <td>Operação contratual externa (com garantia da U...</td>\n",
       "      <td>Infraestrutura</td>\n",
       "      <td>Instituição Financeira Internacional</td>\n",
       "      <td>Banco Internacional para Reconstrução e Desenv...</td>\n",
       "      <td>Dólar dos EUA</td>\n",
       "      <td>166650000.0</td>\n",
       "      <td>1</td>\n",
       "      <td>0</td>\n",
       "      <td>27/03/2009</td>\n",
       "    </tr>\n",
       "  </tbody>\n",
       "</table>\n",
       "</div>"
      ],
      "text/plain": [
       "   id_pleito tipo_interessado interessado  cod_ibge  uf               num_pvl  \\\n",
       "0      28058           Estado   São Paulo        35  SP  PVL02.000587/2018-74   \n",
       "1       8098           Estado   São Paulo        35  SP                  None   \n",
       "2      11982           Estado   São Paulo        35  SP                  None   \n",
       "3      11458           Estado   São Paulo        35  SP                  None   \n",
       "4      11522           Estado   São Paulo        35  SP                  None   \n",
       "\n",
       "                                              status          num_processo  \\\n",
       "0  Encaminhado à PGFN com manifestação técnica fa...  17944.102744/2018-48   \n",
       "1                                           Deferido  17944.000712/2012-13   \n",
       "2                                           Deferido  17944.001573/2009-40   \n",
       "3  Encaminhado à PGFN com manifestação técnica fa...  17944.001453/2009-42   \n",
       "4  Encaminhado à PGFN com manifestação técnica fa...  17944.001467/2008-85   \n",
       "\n",
       "         data_protocolo                                      tipo_operacao  \\\n",
       "0  2018-04-25T12:36:06Z  Operação contratual interna (com garantia da U...   \n",
       "1  2012-05-14T03:00:00Z                        Operação contratual interna   \n",
       "2  2010-06-18T03:00:00Z                        Operação contratual interna   \n",
       "3  2009-11-18T02:00:00Z  Operação contratual externa (com garantia da U...   \n",
       "4  2009-03-20T03:00:00Z  Operação contratual externa (com garantia da U...   \n",
       "\n",
       "                  finalidade                           tipo_credor  \\\n",
       "0             Infraestrutura       Instituição Financeira Nacional   \n",
       "1             Infraestrutura       Instituição Financeira Nacional   \n",
       "2  PAC - Saneamento - 2009 A       Instituição Financeira Nacional   \n",
       "3             Infraestrutura  Instituição Financeira Internacional   \n",
       "4             Infraestrutura  Instituição Financeira Internacional   \n",
       "\n",
       "                                              credor          moeda  \\\n",
       "0                      Banco Santander (Brasil) S.A.           Real   \n",
       "1  Banco Nacional de Desenvolvimento Econômico e ...           Real   \n",
       "2                            Caixa Econômica Federal           Real   \n",
       "3  Banco Internacional para Reconstrução e Desenv...  Dólar dos EUA   \n",
       "4  Banco Internacional para Reconstrução e Desenv...  Dólar dos EUA   \n",
       "\n",
       "         valor  pvl_assoc_divida  pvl_contradado_credor data_status  \n",
       "0  250000000.0                 1                      1  04/05/2018  \n",
       "1  550000000.0                 1                      0  04/06/2012  \n",
       "2   64000000.0                 1                      0  24/06/2010  \n",
       "3  650412000.0                 1                      0  25/11/2009  \n",
       "4  166650000.0                 1                      0  27/03/2009  "
      ]
     },
     "execution_count": 114,
     "metadata": {},
     "output_type": "execute_result"
    }
   ],
   "source": [
    "#1) Faça uma função em Python que recebe como argumento o UF da consulta e o tipo de interessado ('Estado'ou Município), e que devolve os dados da consulta no formato DataFrame.\n",
    "\n",
    "def consulta (UF,interesse):\n",
    "\n",
    "    import pandas as pd\n",
    "    import requests\n",
    "    \n",
    "    url = \"https://apidatalake.tesouro.gov.br/ords/sadipem/tt/pvl?uf=\"+ UF +\"&tipo_interessado=\" + interesse\n",
    "    \n",
    "   \n",
    "    r = requests.get(url)\n",
    "\n",
    "    #Arquivo Json\n",
    "    data_json = r.json()\n",
    "\n",
    "    #Transformar o arquivo json em um DataFrame\n",
    "    df1 = pd.DataFrame(data_json['items'])\n",
    "    \n",
    "    return df1.head()\n",
    "\n",
    "  \n",
    "#Verificando a função criada!\n",
    "consulta(\"SP\",\"Estado\")\n"
   ]
  },
  {
   "cell_type": "code",
   "execution_count": 136,
   "metadata": {},
   "outputs": [
    {
     "name": "stdout",
     "output_type": "stream",
     "text": [
      "Deferido                                                 2\n",
      "Encaminhado à PGFN com manifestação técnica favorável    2\n",
      "Arquivado a pedido                                       1\n",
      "Name: status, dtype: int64\n"
     ]
    },
    {
     "data": {
      "text/plain": [
       "Arquivado a pedido    1\n",
       "Name: status, dtype: int64"
      ]
     },
     "execution_count": 136,
     "metadata": {},
     "output_type": "execute_result"
    }
   ],
   "source": [
    "# 2) Quantas solicitações para o Estado podem ser consultadas para Minas Gerais com status em 'Arquivado por decurso de prazo' estão registradas?\n",
    "\n",
    "dfMinas = consulta(\"MG\",\"Estado\")\n",
    "dfMinas.head()\n",
    "\n",
    "#Avaliando o status:'Arquivado por decurso de prazo'\n",
    "cond = dfMinas[\"status\"] == \"Arquivado por decurso de prazo\" \n",
    "\n",
    "dfMinas[cond].status.value_counts()\n",
    "\n",
    "#Como deu vazio para a condição acima, veirifquei quais eram os status possíveis\n",
    "print(dfMinas.status.value_counts())\n",
    "\n",
    "#Notei q o status existente relacionado a Arquivdo é: 'Arquivado a pedido', sendo assim:\n",
    "cond = dfMinas[\"status\"] == \"Arquivado a pedido\" \n",
    "dfMinas[cond].status.value_counts()"
   ]
  },
  {
   "cell_type": "code",
   "execution_count": 140,
   "metadata": {},
   "outputs": [
    {
     "data": {
      "text/plain": [
       "Nordestina    1\n",
       "Camaçari      1\n",
       "Name: interessado, dtype: int64"
      ]
     },
     "execution_count": 140,
     "metadata": {},
     "output_type": "execute_result"
    }
   ],
   "source": [
    "# 3) Qual é o município da Bahia com mais solicitações deferidas?\n",
    "dfBahia = consulta(\"BA\",\"Município\")\n",
    "cond = dfBahia[\"status\"] == \"Deferido\" \n",
    "dfBahia[cond].interessado.value_counts()\n"
   ]
  },
  {
   "cell_type": "code",
   "execution_count": 141,
   "metadata": {},
   "outputs": [],
   "source": [
    "# 4) Salve um arquivo .csv com os dados de solicitações da Bahia, com interessado = 'Estado'\n",
    "\n",
    "dfBahia = consulta(\"BA\",\"Estado\")\n",
    "dfBahia.to_csv('dataframe_PVS_Bahia_Estado.csv', index= False, sep=';', decimal=',')"
   ]
  }
 ],
 "metadata": {
  "kernelspec": {
   "display_name": "Python 3 (ipykernel)",
   "language": "python",
   "name": "python3"
  },
  "language_info": {
   "codemirror_mode": {
    "name": "ipython",
    "version": 3
   },
   "file_extension": ".py",
   "mimetype": "text/x-python",
   "name": "python",
   "nbconvert_exporter": "python",
   "pygments_lexer": "ipython3",
   "version": "3.9.12"
  }
 },
 "nbformat": 4,
 "nbformat_minor": 4
}
